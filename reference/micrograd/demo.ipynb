{
 "cells": [
  {
   "cell_type": "markdown",
   "metadata": {},
   "source": [
    "###  MicroGrad demo"
   ]
  },
  {
   "cell_type": "code",
   "execution_count": 19,
   "metadata": {},
   "outputs": [],
   "source": [
    "import random\n",
    "import numpy as np\n",
    "import matplotlib.pyplot as plt\n",
    "%matplotlib inline"
   ]
  },
  {
   "cell_type": "code",
   "execution_count": 11,
   "metadata": {},
   "outputs": [],
   "source": [
    "from micrograd.engine import Value\n",
    "from micrograd.nn import Neuron, Layer, MLP"
   ]
  },
  {
   "cell_type": "code",
   "execution_count": 12,
   "metadata": {},
   "outputs": [],
   "source": [
    "np.random.seed(1337)\n",
    "random.seed(1337)"
   ]
  },
  {
   "cell_type": "code",
   "execution_count": 13,
   "metadata": {},
   "outputs": [
    {
     "data": {
      "text/plain": [
       "<matplotlib.collections.PathCollection at 0x10f636400>"
      ]
     },
     "execution_count": 4,
     "metadata": {},
     "output_type": "execute_result"
    },
    {
     "data": {
      "image/png": "[encoded data removed]",
      "text/plain": [
       "<Figure size 360x360 with 1 Axes>"
      ]
     },
     "metadata": {},
     "output_type": "display_data"
    }
   ],
   "source": [
    "# make up a dataset\n",
    "\n",
    "from sklearn.datasets import make_moons, make_blobs\n",
    "X, y = make_moons(n_samples=100, noise=0.1)\n",
    "\n",
    "y = y*2 - 1 # make y be -1 or 1\n",
    "# visualize in 2D\n",
    "plt.figure(figsize=(5,5))\n",
    "plt.scatter(X[:,0], X[:,1], c=y, s=20, cmap='jet')"
   ]
  },
  {
   "cell_type": "code",
   "execution_count": 20,
   "metadata": {},
   "outputs": [
    {
     "name": "stdout",
     "output_type": "stream",
     "text": [
      "MLP of [[0] Layer of [ReLUNeuron([(0, 0)]2), ReLUNeuron([(0, 1)]2), ReLUNeuron([(0, 2)]2), ReLUNeuron([(0, 3)]2), ReLUNeuron([(0, 4)]2), ReLUNeuron([(0, 5)]2), ReLUNeuron([(0, 6)]2), ReLUNeuron([(0, 7)]2), ReLUNeuron([(0, 8)]2), ReLUNeuron([(0, 9)]2), ReLUNeuron([(0, 10)]2), ReLUNeuron([(0, 11)]2), ReLUNeuron([(0, 12)]2), ReLUNeuron([(0, 13)]2), ReLUNeuron([(0, 14)]2), ReLUNeuron([(0, 15)]2)], [1] Layer of [ReLUNeuron([(1, 0)]16), ReLUNeuron([(1, 1)]16), ReLUNeuron([(1, 2)]16), ReLUNeuron([(1, 3)]16), ReLUNeuron([(1, 4)]16), ReLUNeuron([(1, 5)]16), ReLUNeuron([(1, 6)]16), ReLUNeuron([(1, 7)]16), ReLUNeuron([(1, 8)]16), ReLUNeuron([(1, 9)]16), ReLUNeuron([(1, 10)]16), ReLUNeuron([(1, 11)]16), ReLUNeuron([(1, 12)]16), ReLUNeuron([(1, 13)]16), ReLUNeuron([(1, 14)]16), ReLUNeuron([(1, 15)]16)], [2] Layer of [LinearNeuron([(2, 0)]16)]]\n",
      "number of parameters 337\n"
     ]
    }
   ],
   "source": [
    "# initialize a model \n",
    "model = MLP(2, [16, 16, 1]) # 2-layer neural network\n",
    "print(model)\n",
    "print(\"number of parameters\", len(model.parameters()))"
   ]
  },
  {
   "cell_type": "code",
   "execution_count": 15,
   "metadata": {},
   "outputs": [
    {
     "name": "stdout",
     "output_type": "stream",
     "text": [
      "Value(data=0.8958441028683222, grad=0) 0.5\n"
     ]
    }
   ],
   "source": [
    "# loss function\n",
    "def loss(batch_size=None):\n",
    "    \n",
    "    # inline DataLoader :)\n",
    "    if batch_size is None:\n",
    "        Xb, yb = X, y\n",
    "    else:\n",
    "        ri = np.random.permutation(X.shape[0])[:batch_size]\n",
    "        Xb, yb = X[ri], y[ri]\n",
    "    inputs = [list(map(Value, xrow)) for xrow in Xb]\n",
    "    \n",
    "    # forward the model to get scores\n",
    "    scores = list(map(model, inputs))\n",
    "    \n",
    "    # svm \"max-margin\" loss\n",
    "    losses = [(1 + -yi*scorei).relu() for yi, scorei in zip(yb, scores)]\n",
    "    data_loss = sum(losses) * (1.0 / len(losses))\n",
    "    # L2 regularization\n",
    "    alpha = 1e-4\n",
    "    reg_loss = alpha * sum((p*p for p in model.parameters()))\n",
    "    total_loss = data_loss + reg_loss\n",
    "    \n",
    "    # also get accuracy\n",
    "    accuracy = [(yi > 0) == (scorei.data > 0) for yi, scorei in zip(yb, scores)]\n",
    "    return total_loss, sum(accuracy) / len(accuracy)\n",
    "\n",
    "total_loss, acc = loss()\n",
    "print(total_loss, acc)"
   ]
  },
  {
   "cell_type": "code",
   "execution_count": 16,
   "metadata": {},
   "outputs": [
    {
     "data": {
      "text/plain": [
       "Value(data=0.8862514464368222, grad=0)"
      ]
     },
     "execution_count": 16,
     "metadata": {},
     "output_type": "execute_result"
    }
   ],
   "source": [
    "dl"
   ]
  },
  {
   "cell_type": "code",
   "execution_count": 18,
   "metadata": {},
   "outputs": [
    {
     "name": "stdout",
     "output_type": "stream",
     "text": [
      "step 0 loss 0.8958441028683222, accuracy 50.0%, rl 0.009592656431500009, dl 0.8862514464368222\n",
      "step 1 loss 1.723590533697202, accuracy 81.0%, rl 0.010424424406302852, dl 1.7131661092908992\n",
      "step 2 loss 0.742900631385113, accuracy 77.0%, rl 0.009894609475247984, dl 0.733006021909865\n",
      "step 3 loss 0.7705641260584202, accuracy 82.0%, rl 0.009855528998603584, dl 0.7607085970598166\n",
      "step 4 loss 0.3692793385976538, accuracy 84.0%, rl 0.009690079517095681, dl 0.3595892590805581\n",
      "step 5 loss 0.31354548191852205, accuracy 86.0%, rl 0.009638159107550845, dl 0.3039073228109712\n",
      "step 6 loss 0.2814234349772434, accuracy 89.0%, rl 0.009627338050344537, dl 0.2717960969268989\n",
      "step 7 loss 0.26888733313983904, accuracy 91.0%, rl 0.009648015040713939, dl 0.2592393180991251\n",
      "step 8 loss 0.2567147286057416, accuracy 91.0%, rl 0.009682206173139715, dl 0.24703252243260193\n",
      "step 9 loss 0.2704862551637922, accuracy 91.0%, rl 0.009719285596623342, dl 0.2607669695671689\n",
      "step 10 loss 0.24507023853658041, accuracy 91.0%, rl 0.0097622689708453, dl 0.2353079695657351\n",
      "step 11 loss 0.2509905529791504, accuracy 92.0%, rl 0.009792550393591141, dl 0.24119800258555926\n",
      "step 12 loss 0.21560951851922946, accuracy 91.0%, rl 0.00983953463989876, dl 0.2057699838793307\n",
      "step 13 loss 0.23090378446402735, accuracy 93.0%, rl 0.009865150649474713, dl 0.22103863381455263\n",
      "step 14 loss 0.20152151227899445, accuracy 92.0%, rl 0.009901653255677281, dl 0.19161985902331719\n",
      "step 15 loss 0.22574506279282222, accuracy 93.0%, rl 0.009925957744468058, dl 0.21581910504835417\n",
      "step 16 loss 0.19447987596204105, accuracy 92.0%, rl 0.009992429095021111, dl 0.18448744686701996\n",
      "step 17 loss 0.21089496199246363, accuracy 93.0%, rl 0.010013333595104285, dl 0.20088162839735935\n",
      "step 18 loss 0.15983077356303604, accuracy 94.0%, rl 0.010036780407695572, dl 0.14979399315534048\n",
      "step 19 loss 0.18453748746883927, accuracy 93.0%, rl 0.010081315259088702, dl 0.17445617220975057\n",
      "step 20 loss 0.1897752285608764, accuracy 91.0%, rl 0.010155348252014446, dl 0.17961988030886195\n",
      "step 21 loss 0.19072704042579644, accuracy 93.0%, rl 0.010178058801445325, dl 0.18054898162435112\n",
      "step 22 loss 0.11733695088756485, accuracy 97.0%, rl 0.010194476695826031, dl 0.10714247419173882\n",
      "step 23 loss 0.12173524408232457, accuracy 95.0%, rl 0.010199429259140752, dl 0.11153581482318382\n",
      "step 24 loss 0.12615712612770458, accuracy 95.0%, rl 0.010233850614724425, dl 0.11592327551298016\n",
      "step 25 loss 0.1604909778080168, accuracy 95.0%, rl 0.010264484770776947, dl 0.15022649303723987\n",
      "step 26 loss 0.1874719770524581, accuracy 92.0%, rl 0.01035928001777366, dl 0.17711269703468444\n",
      "step 27 loss 0.16741837891059402, accuracy 95.0%, rl 0.010383873560644208, dl 0.1570345053499498\n",
      "step 28 loss 0.09586583491455392, accuracy 97.0%, rl 0.010395415110447084, dl 0.08547041980410683\n",
      "step 29 loss 0.08778783707420923, accuracy 96.0%, rl 0.010397116675866446, dl 0.07739072039834279\n",
      "step 30 loss 0.11731297569011848, accuracy 95.0%, rl 0.01041244358562175, dl 0.10690053210449672\n",
      "step 31 loss 0.09340146460619843, accuracy 97.0%, rl 0.010441447074478624, dl 0.0829600175317198\n",
      "step 32 loss 0.12454454903103451, accuracy 95.0%, rl 0.010458730702031908, dl 0.11408581832900261\n",
      "step 33 loss 0.07984002652777272, accuracy 97.0%, rl 0.010493527133911652, dl 0.06934649939386107\n",
      "step 34 loss 0.07727519232921665, accuracy 97.0%, rl 0.01051294803043719, dl 0.06676224429877946\n",
      "step 35 loss 0.07661250143094486, accuracy 98.0%, rl 0.010515338774891322, dl 0.06609716265605355\n",
      "step 36 loss 0.10610492379198369, accuracy 96.0%, rl 0.010530124805401444, dl 0.09557479898658225\n",
      "step 37 loss 0.09062808429265974, accuracy 99.0%, rl 0.010580946325414979, dl 0.08004713796724476\n",
      "step 38 loss 0.10671887043036926, accuracy 95.0%, rl 0.010609019745087388, dl 0.09610985068528187\n",
      "step 39 loss 0.052256599219758414, accuracy 98.0%, rl 0.010629572001609655, dl 0.04162702721814876\n",
      "step 40 loss 0.06016009895234474, accuracy 100.0%, rl 0.010629725527566422, dl 0.04953037342477832\n",
      "step 41 loss 0.08596724533333933, accuracy 96.0%, rl 0.010651174504310704, dl 0.07531607082902862\n",
      "step 42 loss 0.05112107943179601, accuracy 99.0%, rl 0.010675863226905447, dl 0.04044521620489056\n",
      "step 43 loss 0.052401424016428215, accuracy 97.0%, rl 0.010692647631749791, dl 0.041708776384678424\n",
      "step 44 loss 0.04530684179001587, accuracy 100.0%, rl 0.010696822398128667, dl 0.03461001939188721\n",
      "step 45 loss 0.07211073370655086, accuracy 97.0%, rl 0.010718651732268377, dl 0.06139208197428248\n",
      "step 46 loss 0.033342386513102285, accuracy 99.0%, rl 0.01073290849740072, dl 0.022609478015701567\n",
      "step 47 loss 0.03143222795751133, accuracy 100.0%, rl 0.010743316162131778, dl 0.02068891179537955\n",
      "step 48 loss 0.03658536747111496, accuracy 99.0%, rl 0.010759496436472813, dl 0.02582587103464215\n",
      "step 49 loss 0.04829139382390339, accuracy 99.0%, rl 0.010762709902905085, dl 0.037528683920998306\n",
      "step 50 loss 0.09875114765619619, accuracy 96.0%, rl 0.010786726568977733, dl 0.08796442108721846\n",
      "step 51 loss 0.05449063965875435, accuracy 99.0%, rl 0.010836913259873583, dl 0.043653726398880766\n",
      "step 52 loss 0.033926794357083255, accuracy 100.0%, rl 0.010847356682385506, dl 0.023079437674697747\n",
      "step 53 loss 0.052615172635684285, accuracy 97.0%, rl 0.010858147088215841, dl 0.04175702554746844\n",
      "step 54 loss 0.032502952514249075, accuracy 99.0%, rl 0.010855493387403152, dl 0.021647459126845927\n",
      "step 55 loss 0.028883273872078424, accuracy 100.0%, rl 0.010860632076317277, dl 0.018022641795761147\n",
      "step 56 loss 0.04139151104027227, accuracy 98.0%, rl 0.010868822859973256, dl 0.030522688180299015\n",
      "step 57 loss 0.01898740742612855, accuracy 100.0%, rl 0.01087520343368651, dl 0.00811220399244204\n",
      "step 58 loss 0.025238335238837305, accuracy 100.0%, rl 0.010880528345224657, dl 0.014357806893612646\n",
      "step 59 loss 0.02079656521341907, accuracy 100.0%, rl 0.010881990766742294, dl 0.009914574446676774\n",
      "step 60 loss 0.03259711157810216, accuracy 99.0%, rl 0.010889467552410386, dl 0.021707644025691777\n",
      "step 61 loss 0.01786335169348037, accuracy 100.0%, rl 0.010892862251745294, dl 0.006970489441735076\n",
      "step 62 loss 0.023008717832211638, accuracy 100.0%, rl 0.010900708935417678, dl 0.01210800889679396\n",
      "step 63 loss 0.02207932546358162, accuracy 100.0%, rl 0.01090832550884557, dl 0.011170999954736053\n",
      "step 64 loss 0.02943291785352955, accuracy 99.0%, rl 0.010916422681646526, dl 0.018516495171883023\n",
      "step 65 loss 0.01625151464409206, accuracy 100.0%, rl 0.01092491875681152, dl 0.005326595887280537\n",
      "step 66 loss 0.028468534483264328, accuracy 99.0%, rl 0.010934171876173043, dl 0.017534362607091285\n",
      "step 67 loss 0.013994365546208726, accuracy 100.0%, rl 0.010942501694204526, dl 0.0030518638520041995\n",
      "step 68 loss 0.015552344843651603, accuracy 100.0%, rl 0.010945073041908749, dl 0.004607271801742853\n",
      "step 69 loss 0.03389119946160155, accuracy 99.0%, rl 0.010951524641696098, dl 0.022939674819905456\n",
      "step 70 loss 0.014229870065926901, accuracy 100.0%, rl 0.010958042558758062, dl 0.0032718275071688396\n",
      "step 71 loss 0.013255281583285483, accuracy 100.0%, rl 0.01096029898281309, dl 0.002294982600472394\n",
      "step 72 loss 0.012300277590022057, accuracy 100.0%, rl 0.010962706108528772, dl 0.001337571481493286\n",
      "step 73 loss 0.012676052498356119, accuracy 100.0%, rl 0.010965249707117907, dl 0.0017108027912382108\n",
      "step 74 loss 0.0205938119559547, accuracy 100.0%, rl 0.010970061494622993, dl 0.009623750461331706\n",
      "step 75 loss 0.011845398205364394, accuracy 100.0%, rl 0.010976249267576975, dl 0.0008691489377874184\n",
      "step 76 loss 0.01601269747288329, accuracy 100.0%, rl 0.010977173725334239, dl 0.005035523747549053\n",
      "step 77 loss 0.02545836023922205, accuracy 100.0%, rl 0.01098222939991595, dl 0.014476130839306099\n",
      "step 78 loss 0.01438293028966186, accuracy 100.0%, rl 0.01098637557579519, dl 0.0033965547138666706\n",
      "step 79 loss 0.011698962425817954, accuracy 100.0%, rl 0.01098676806183516, dl 0.0007121943639827944\n",
      "step 80 loss 0.012318500800515863, accuracy 100.0%, rl 0.010987602157351532, dl 0.001330898643164331\n",
      "step 81 loss 0.014121117031464191, accuracy 100.0%, rl 0.010989100873141816, dl 0.003132016158322375\n",
      "step 82 loss 0.011664591962446177, accuracy 100.0%, rl 0.010989490553917096, dl 0.0006751014085290819\n",
      "step 83 loss 0.011589314549188764, accuracy 100.0%, rl 0.010990243377675877, dl 0.000599071171512886\n",
      "step 84 loss 0.010990299347735226, accuracy 100.0%, rl 0.010990299347735226, dl 0.0\n",
      "step 85 loss 0.01098922672069161, accuracy 100.0%, rl 0.01098922672069161, dl 0.0\n",
      "step 86 loss 0.010988193757655071, accuracy 100.0%, rl 0.010988193757655071, dl 0.0\n",
      "step 87 loss 0.010987200447388705, accuracy 100.0%, rl 0.010987200447388705, dl 0.0\n",
      "step 88 loss 0.010986246779084925, accuracy 100.0%, rl 0.010986246779084925, dl 0.0\n",
      "step 89 loss 0.010985332742365274, accuracy 100.0%, rl 0.010985332742365274, dl 0.0\n",
      "step 90 loss 0.010984458327280174, accuracy 100.0%, rl 0.010984458327280174, dl 0.0\n",
      "step 91 loss 0.010983623524308863, accuracy 100.0%, rl 0.010983623524308863, dl 0.0\n",
      "step 92 loss 0.010982828324359074, accuracy 100.0%, rl 0.010982828324359074, dl 0.0\n",
      "step 93 loss 0.010982072718767001, accuracy 100.0%, rl 0.010982072718767001, dl 0.0\n",
      "step 94 loss 0.01098135669929704, accuracy 100.0%, rl 0.01098135669929704, dl 0.0\n",
      "step 95 loss 0.010980680258141723, accuracy 100.0%, rl 0.010980680258141723, dl 0.0\n",
      "step 96 loss 0.010980043387921504, accuracy 100.0%, rl 0.010980043387921504, dl 0.0\n",
      "step 97 loss 0.010979446081684675, accuracy 100.0%, rl 0.010979446081684675, dl 0.0\n",
      "step 98 loss 0.010978888332907229, accuracy 100.0%, rl 0.010978888332907229, dl 0.0\n",
      "step 99 loss 0.010978370135492719, accuracy 100.0%, rl 0.010978370135492719, dl 0.0\n"
     ]
    }
   ],
   "source": [
    "from micrograd.nn import enable_sumv\n",
    "\n",
    "# enable_sumv(True)\n",
    "enable_sumv(False)\n",
    "\n",
    "# optimization\n",
    "for k in range(100):\n",
    "    \n",
    "    # forward\n",
    "    total_loss, acc, reg_loss, data_loss = loss()\n",
    "    \n",
    "    # backward\n",
    "    model.zero_grad()\n",
    "    total_loss.backward()\n",
    "    \n",
    "    # update (sgd)\n",
    "    learning_rate = 1.0 - 0.9*k/100\n",
    "    for p in model.parameters():\n",
    "        p.data -= learning_rate * p.grad\n",
    "    \n",
    "    if k % 1 == 0:\n",
    "        print(f\"step {k} loss {total_loss.data}, accuracy {acc*100}%, rl {reg_loss.data}, dl {data_loss.data}\")\n"
   ]
  },
  {
   "cell_type": "code",
   "execution_count": null,
   "metadata": {},
   "outputs": [
    {
     "data": {
      "text/plain": [
       "(-1.548639298268643, 1.951360701731357)"
      ]
     },
     "execution_count": 11,
     "metadata": {},
     "output_type": "execute_result"
    },
    {
     "data": {
      "image/png": "[encoded data removed]",
      "text/plain": [
       "<Figure size 640x480 with 1 Axes>"
      ]
     },
     "metadata": {},
     "output_type": "display_data"
    }
   ],
   "source": [
    "# visualize decision boundary\n",
    "\n",
    "h = 0.25\n",
    "x_min, x_max = X[:, 0].min() - 1, X[:, 0].max() + 1\n",
    "y_min, y_max = X[:, 1].min() - 1, X[:, 1].max() + 1\n",
    "xx, yy = np.meshgrid(np.arange(x_min, x_max, h),\n",
    "                     np.arange(y_min, y_max, h))\n",
    "Xmesh = np.c_[xx.ravel(), yy.ravel()]\n",
    "inputs = [list(map(Value, xrow)) for xrow in Xmesh]\n",
    "scores = list(map(model, inputs))\n",
    "Z = np.array([s.data > 0 for s in scores])\n",
    "Z = Z.reshape(xx.shape)\n",
    "\n",
    "fig = plt.figure()\n",
    "plt.contourf(xx, yy, Z, cmap=plt.cm.Spectral, alpha=0.8)\n",
    "plt.scatter(X[:, 0], X[:, 1], c=y, s=40, cmap=plt.cm.Spectral)\n",
    "plt.xlim(xx.min(), xx.max())\n",
    "plt.ylim(yy.min(), yy.max())\n"
   ]
  },
  {
   "cell_type": "code",
   "execution_count": null,
   "metadata": {},
   "outputs": [
    {
     "name": "stdout",
     "output_type": "stream",
     "text": [
      "Value(data=-4.0, grad=46.0) Value(data=-20.0, grad=1)\n",
      "-3.0\n"
     ]
    }
   ],
   "source": [
    "x = Value(-4.0)\n",
    "z = 2 * x + 2 + x\n",
    "q = z.relu() + z * x\n",
    "h = (z * z).relu()\n",
    "y = h + q + q * x\n",
    "y.backward()\n",
    "xmg, ymg = x, y\n",
    "print(xmg, ymg)\n",
    "print(q.grad)"
   ]
  }
 ],
 "metadata": {
  "kernelspec": {
   "display_name": "Python 3",
   "language": "python",
   "name": "python3"
  },
  "language_info": {
   "codemirror_mode": {
    "name": "ipython",
    "version": 3
   },
   "file_extension": ".py",
   "mimetype": "text/x-python",
   "name": "python",
   "nbconvert_exporter": "python",
   "pygments_lexer": "ipython3",
   "version": "3.12.1"
  }
 },
 "nbformat": 4,
 "nbformat_minor": 2
}
