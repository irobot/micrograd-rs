{
 "cells": [
  {
   "cell_type": "code",
   "execution_count": null,
   "metadata": {},
   "outputs": [],
   "source": [
    "from reference.micrograd.micrograd.engine import Value\n",
    "from reference.micrograd.micrograd.nn import Neuron, Layer, MLP\n",
    "import json\n",
    "\n",
    "def encode_nn(obj):\n",
    "    if isinstance(obj, Layer):\n",
    "        return { \"neurons\": obj.neurons }\n",
    "    elif isinstance(obj, Neuron):\n",
    "        weights = [{ \"value\": { \"Value\": { \"id\": v.id, \"data\": v.data } }, \"input_node_id\": 0 } for v in obj.w]\n",
    "        neuron = {\n",
    "            \"weights\": weights,\n",
    "            \"bias\": { \"id\": obj.b.id, \"data\": obj.b.data }\n",
    "        }\n",
    "        if obj.nonlin:\n",
    "            neuron[\"nonlin\"] = { \"Expr\": { \"id\": 0, \"op\": { \"Relu\": 0 } }}\n",
    "        return neuron\n",
    "    elif isinstance(obj, MLP):\n",
    "        return {\n",
    "            \"layers\": obj.layers,\n",
    "        }\n",
    "\n",
    "def encode_mlp(model, output_file_path=\"mlp_init.json\"):\n",
    "    with open(output_file_path, \"w\") as f:\n",
    "        f.write(json.dumps(model, default=encode_nn, indent=2))"
   ]
  },
  {
   "cell_type": "code",
   "execution_count": null,
   "metadata": {},
   "outputs": [],
   "source": [
    "# [[[w.data for w in n.w] for n in l.neurons] for l in model.layers]\n",
    "def encode_value(n):\n",
    "    if isinstance(n, Value):\n",
    "        if n.op == '':\n",
    "            return { \"Value\": { \"id\": n.id, \"data\": n.data } }\n",
    "        op = ''\n",
    "        operands = [v.id for v in n.prev]\n",
    "        if len(n.prev) == 1:\n",
    "            operands = n.prev[0].id\n",
    "        if n.op == \"+\":\n",
    "            op = \"Add\"\n",
    "        elif n.op == \"sum\":\n",
    "            op = 'Sum'\n",
    "        elif n.op == \"*\":\n",
    "            op = \"Mul\"\n",
    "        elif n.op == \"ReLU\":\n",
    "            op = \"Relu\"\n",
    "        elif n.op.startswith(\"**\"):\n",
    "            operands.push(n.op[2:])\n",
    "            op = \"Pow\"\n",
    "        cur = { \"Expr\": { \"id\": n.id, \"op\": { op: operands }}}\n",
    "        return cur\n",
    "\n",
    "def encode_graph(output_node, output_file_path=\"graph_init.json\"):\n",
    "    visited = set()\n",
    "    topo = []\n",
    "    def build_topo(n):\n",
    "        if not n in visited:\n",
    "            visited.add(n)\n",
    "            for child in n.prev:\n",
    "                build_topo(child)\n",
    "            topo.append(n)\n",
    "\n",
    "    build_topo(output_node)\n",
    "\n",
    "    with open(output_file_path, \"w\") as f:\n",
    "        f.write(json.dumps(topo, default=encode_value, indent=1))\n",
    "    "
   ]
  }
 ],
 "metadata": {
  "language_info": {
   "name": "python"
  }
 },
 "nbformat": 4,
 "nbformat_minor": 2
}
